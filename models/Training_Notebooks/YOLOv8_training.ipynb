{
  "nbformat": 4,
  "nbformat_minor": 0,
  "metadata": {
    "colab": {
      "provenance": []
    },
    "kernelspec": {
      "name": "python3",
      "display_name": "Python 3"
    },
    "language_info": {
      "name": "python"
    }
  },
  "cells": [
    {
      "cell_type": "code",
      "execution_count": null,
      "metadata": {
        "id": "zNXfP3T7j0xW"
      },
      "outputs": [],
      "source": [
        "!nvidia-smi"
      ]
    },
    {
      "cell_type": "code",
      "source": [
        "import os\n",
        "HOME = os.getcwd()\n",
        "print(HOME)"
      ],
      "metadata": {
        "id": "1ykvgbTdkBa_"
      },
      "execution_count": null,
      "outputs": []
    },
    {
      "cell_type": "code",
      "source": [
        "# Pip install method (recommended)\n",
        "\n",
        "!pip install ultralytics\n",
        "\n",
        "from IPython import display\n",
        "display.clear_output()\n",
        "\n",
        "import ultralytics\n",
        "ultralytics.checks()"
      ],
      "metadata": {
        "id": "jvTrI5kukHAJ"
      },
      "execution_count": null,
      "outputs": []
    },
    {
      "cell_type": "code",
      "source": [
        "from ultralytics import YOLO\n",
        "\n",
        "from IPython.display import display, Image"
      ],
      "metadata": {
        "id": "skCF6YeikJNF"
      },
      "execution_count": null,
      "outputs": []
    },
    {
      "cell_type": "code",
      "source": [
        "from google.colab import drive\n",
        "drive.mount('/content/drive')"
      ],
      "metadata": {
        "id": "nnWLTKe0kcMb"
      },
      "execution_count": null,
      "outputs": []
    },
    {
      "cell_type": "code",
      "source": [
        "!apt-get install unrar"
      ],
      "metadata": {
        "id": "BSPe0LV6kd5D"
      },
      "execution_count": null,
      "outputs": []
    },
    {
      "cell_type": "code",
      "source": [
        "!unrar x /content/drive/MyDrive/dataset.rar"
      ],
      "metadata": {
        "id": "zM6PkFZEkeoa"
      },
      "execution_count": null,
      "outputs": []
    },
    {
      "cell_type": "code",
      "source": [
        "%cd {HOME}\n",
        "\n",
        "!yolo task=classify mode=train model=yolov8n-cls.pt data=\"/content/dataset/Final_dataset_elixir\" epochs=50 imgsz=128"
      ],
      "metadata": {
        "id": "8emOrYVHlA5C"
      },
      "execution_count": null,
      "outputs": []
    },
    {
      "cell_type": "code",
      "source": [
        "!ls -la {HOME}/runs/classify/train/"
      ],
      "metadata": {
        "id": "5cBmG5BClDtQ"
      },
      "execution_count": null,
      "outputs": []
    },
    {
      "cell_type": "code",
      "source": [
        "!yolo task=classify mode=predict model=/content/best.pt conf=0.25 source=/content/ISIC_0054881.jpg"
      ],
      "metadata": {
        "id": "Jsm0EwbglM6T"
      },
      "execution_count": null,
      "outputs": []
    },
    {
      "cell_type": "code",
      "source": [
        "import ultralytics\n",
        "from ultralytics import YOLO\n",
        "model = YOLO('/content/best.pt')\n",
        "results = model(\"/content/ISIC_0054881.jpg\")\n",
        "print(results[0].names[results[0].probs.top1])\n",
        "x=results[0].probs.top5\n",
        "y=results[0].probs.top5conf.tolist()\n",
        "k=[]\n",
        "for i in range(7):\n",
        "    if i in x:\n",
        "        y_index = x.index(i)\n",
        "        y_value = y[y_index]\n",
        "        k.append(y_value)\n",
        "    else:\n",
        "        k.append(0)\n",
        "print(x)\n",
        "print(k)"
      ],
      "metadata": {
        "id": "t2_9ZDX4lPdq"
      },
      "execution_count": null,
      "outputs": []
    }
  ]
}